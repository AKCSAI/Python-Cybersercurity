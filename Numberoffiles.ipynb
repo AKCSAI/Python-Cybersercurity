{
 "cells": [
  {
   "cell_type": "code",
   "execution_count": 46,
   "metadata": {},
   "outputs": [
    {
     "name": "stdout",
     "output_type": "stream",
     "text": [
      "Folder: ., Number of files: 1\n",
      "Folder: consents, Number of files: 501\n",
      "Folder: delivery, Number of files: 0\n",
      "Folder: delivery/4929, Number of files: 270\n",
      "Folder: delivery/281, Number of files: 270\n",
      "Folder: delivery/5357, Number of files: 275\n",
      "Folder: delivery/5368, Number of files: 275\n",
      "Folder: delivery/5356, Number of files: 275\n",
      "Folder: delivery/4960, Number of files: 148\n",
      "Folder: delivery/1241, Number of files: 275\n",
      "Folder: delivery/5406, Number of files: 275\n",
      "Folder: delivery/5341, Number of files: 275\n",
      "Folder: delivery/5384, Number of files: 275\n",
      "Folder: delivery/4686, Number of files: 270\n",
      "Folder: delivery/4551, Number of files: 275\n",
      "Folder: delivery/5446, Number of files: 275\n",
      "\n",
      "Total number of files in the delivery folder: 3935\n"
     ]
    }
   ],
   "source": [
    "import os\n",
    "\n",
    "def count_files_in_subfolders(main_folder):\n",
    "    \"\"\"\n",
    "    This function walks through each subfolder of the main folder and counts the number of files in each.\n",
    "    It also prints the total number of files in the delivery folder.\n",
    "    \"\"\"\n",
    "    total_files = 0  # Initialize a counter for the total number of files\n",
    "    \n",
    "    for root, dirs, files in os.walk(main_folder):\n",
    "        # Count files in the current directory\n",
    "        subfolder_name = os.path.relpath(root, main_folder)\n",
    "        file_count = len([f for f in files if os.path.isfile(os.path.join(root, f))])\n",
    "        total_files += file_count  # Add to the total count\n",
    "        \n",
    "        # Print the file count for each folder\n",
    "        print(f\"Folder: {subfolder_name}, Number of files: {file_count}\")\n",
    "    \n",
    "    # Print the total number of files\n",
    "    print(f\"\\nTotal number of files in the delivery folder: {total_files}\")\n",
    "\n",
    "# Example usage:\n",
    "if __name__ == \"__main__\":\n",
    "    main_folder_path = \"/users/azizkhan/speakers\"  # Replace with your main folder path\n",
    "    count_files_in_subfolders(main_folder_path)\n"
   ]
  }
 ],
 "metadata": {
  "kernelspec": {
   "display_name": "Python 3",
   "language": "python",
   "name": "python3"
  },
  "language_info": {
   "codemirror_mode": {
    "name": "ipython",
    "version": 3
   },
   "file_extension": ".py",
   "mimetype": "text/x-python",
   "name": "python",
   "nbconvert_exporter": "python",
   "pygments_lexer": "ipython3",
   "version": "3.10.1"
  }
 },
 "nbformat": 4,
 "nbformat_minor": 2
}
