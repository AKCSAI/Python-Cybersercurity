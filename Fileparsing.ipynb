{
 "cells": [
  {
   "cell_type": "code",
   "execution_count": 1,
   "metadata": {},
   "outputs": [
    {
     "name": "stdout",
     "output_type": "stream",
     "text": [
      "<built-in method split of str object at 0x7fc4b6181200>\n"
     ]
    }
   ],
   "source": [
    "#open a text file in python \n",
    "with open(\"/users/azizkhan/downloads/transcript.txt\", 'r') as file: \n",
    "        file_text = file.read()\n",
    "print(file_text.split)"
   ]
  },
  {
   "cell_type": "code",
   "execution_count": 2,
   "metadata": {},
   "outputs": [
    {
     "name": "stdout",
     "output_type": "stream",
     "text": [
      "before .split(): elarson,bmoreno,tshah,sgilmore,eraab\n",
      "after .split(): ['elarson', 'bmoreno', 'tshah', 'sgilmore', 'eraab']\n"
     ]
    }
   ],
   "source": [
    "approved_users = \"elarson,bmoreno,tshah,sgilmore,eraab\"\n",
    "print(\"before .split():\", approved_users)\n",
    "approved_users = approved_users.split(\",\")\n",
    "print(\"after .split():\", approved_users)"
   ]
  },
  {
   "cell_type": "code",
   "execution_count": 1,
   "metadata": {},
   "outputs": [
    {
     "name": "stdout",
     "output_type": "stream",
     "text": [
      "Successful event - no parsing needed\n"
     ]
    }
   ],
   "source": [
    "# Parse Information from a log file if the status code != 200\n",
    "\n",
    "def parse_line(line):\n",
    "    error_code = line[0:3] \n",
    "\n",
    "    if (error_code == \"200\"):\n",
    "        return \"Successful event - no parsing needed\"\n",
    "    \n",
    "    date = line[4:12]\n",
    "    time = line[13:21]\n",
    "    application_name = line[22:43]\n",
    "\n",
    "    parsed_line = []\n",
    "    parsed_line.insert(0, error_code)\n",
    "    parsed_line.insert(1, date)\n",
    "    parsed_line.insert(2, time)\n",
    "    parsed_line.insert(3, application_name)\n",
    "\n",
    "    return parsed_line\n",
    "\n",
    "final_parsed_line = parse_line(\"200 02082022 05:11:00 buffer_application\")\n",
    "print(final_parsed_line)"
   ]
  }
 ],
 "metadata": {
  "kernelspec": {
   "display_name": "Python 3",
   "language": "python",
   "name": "python3"
  },
  "language_info": {
   "codemirror_mode": {
    "name": "ipython",
    "version": 3
   },
   "file_extension": ".py",
   "mimetype": "text/x-python",
   "name": "python",
   "nbconvert_exporter": "python",
   "pygments_lexer": "ipython3",
   "version": "3.10.1"
  }
 },
 "nbformat": 4,
 "nbformat_minor": 2
}
