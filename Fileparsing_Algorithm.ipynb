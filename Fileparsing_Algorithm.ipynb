{
 "cells": [
  {
   "cell_type": "code",
   "execution_count": 3,
   "metadata": {},
   "outputs": [
    {
     "data": {
      "text/plain": [
       "'You can login'"
      ]
     },
     "execution_count": 3,
     "metadata": {},
     "output_type": "execute_result"
    }
   ],
   "source": [
    "# Open, read, and split a text file \n",
    "with open (\"/users/azizkhan/python/login_log.txt\", \"r\") as file: \n",
    "    file_text = file.read()\n",
    "usernames = file_text.split()\n",
    "\n",
    "#create a function that counts a user's failed login attempt \n",
    "def login_check(login_list, current_user):\n",
    "    counter = 0 \n",
    "    for i in login_list:\n",
    "        if i == current_user:\n",
    "            counter = counter + 1\n",
    "            \n",
    "    if counter >= 3: \n",
    "        return \"You have tried to login three or more time. Your account has been locked\"\n",
    "    else: \n",
    "        return \"You can login\"\n",
    "\n",
    "login_check(usernames, \"eraab\")"
   ]
  }
 ],
 "metadata": {
  "kernelspec": {
   "display_name": "Python 3",
   "language": "python",
   "name": "python3"
  },
  "language_info": {
   "codemirror_mode": {
    "name": "ipython",
    "version": 3
   },
   "file_extension": ".py",
   "mimetype": "text/x-python",
   "name": "python",
   "nbconvert_exporter": "python",
   "pygments_lexer": "ipython3",
   "version": "3.10.1"
  }
 },
 "nbformat": 4,
 "nbformat_minor": 2
}
