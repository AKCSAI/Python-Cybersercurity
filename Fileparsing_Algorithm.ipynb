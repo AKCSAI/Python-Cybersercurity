{
 "cells": [
  {
   "cell_type": "code",
   "execution_count": 4,
   "metadata": {},
   "outputs": [
    {
     "data": {
      "text/plain": [
       "'You can login'"
      ]
     },
     "execution_count": 4,
     "metadata": {},
     "output_type": "execute_result"
    }
   ],
   "source": [
    "# Open, read, and split a text file \n",
    "with open (\"/users/azizkhan/python/login_log.txt\", \"r\") as file: \n",
    "    file_text = file.read()\n",
    "usernames = file_text.split()\n",
    "\n",
    "#create a function that counts a user's failed login attempt \n",
    "def login_check(login_list, current_user):\n",
    "    counter = 0 \n",
    "    for i in login_list:\n",
    "        if i == current_user:\n",
    "            counter = counter + 1\n",
    "            \n",
    "    if counter >= 3: \n",
    "        return \"You have tried to login three or more time. Your account has been locked\"\n",
    "    else: \n",
    "        return \"You can login\"\n",
    "\n",
    "login_check(usernames, \"eraab\")"
   ]
  },
  {
   "cell_type": "code",
   "execution_count": 15,
   "metadata": {},
   "outputs": [
    {
     "name": "stdout",
     "output_type": "stream",
     "text": [
      "192.168.218.160 192.168.145.158 192.168.108.13 192.168.60.153 192.168.96.200 192.168.247.153 192.168.3.252 192.168.116.187 192.168.15.110 192.168.39.246 192.168.25.60 192.168.205.12 192.168.6.9 192.168.52.90 192.168.90.124 192.168.186.176 192.168.133.188 192.168.203.198 192.168.218.219 192.168.52.37 192.168.156.224 192.168.60.153 192.168.69.116\n"
     ]
    }
   ],
   "source": [
    "# Assign `import_file` to the name of the file \n",
    "import_file = \"/users/azizkhan/python/allow_list.txt\"\n",
    "\n",
    "# Assign `remove_list` to a list of IP addresses that are no longer allowed to access restricted information. \n",
    "remove_list = [\"192.168.97.225\", \"192.168.158.170\", \"192.168.201.40\", \"192.168.58.57\"]\n",
    "\n",
    "#def updated_file(import_file, remove_list): \n",
    "\n",
    "# Build `with` statement to read in the initial contents of the file\n",
    "with open(import_file, \"r\") as file:\n",
    "    ip_addresses = file.read()\n",
    "\n",
    "# Use `.split()` to convert `ip_addresses` from a string to a list\n",
    "ip_addresses = ip_addresses.split()\n",
    "    \n",
    "# Display `ip_addresses`\n",
    "#print(ip_addresses)\n",
    "\n",
    "# Using variable `element' run a loop to remove IP addresses in remove_list \n",
    "for element in ip_addresses: \n",
    "\n",
    "    # Conditional statement - If current element is in `remove_list`\n",
    "    if element in remove_list: \n",
    "        \n",
    "        # then current element should be removed from `ip_addresses`\n",
    "        ip_addresses.remove(element)\n",
    "\n",
    "# Display `ip_addresses` \n",
    "#print(ip_addresses)\n",
    "\n",
    "# Convert `ip_addresses` back to a string so that it can be written into a text file \n",
    "ip_addresses = \" \".join(ip_addresses)\n",
    "\n",
    "# Specify a new file name for the updated list\n",
    "updated_file = \"/users/azizkhan/python/updated_allow_list.txt\"\n",
    "\n",
    "# Build `with` statement to write the updated IP addresses to the new file\n",
    "with open(updated_file, \"w\") as file:\n",
    "    # Write the updated list of IP addresses into the new file\n",
    "    file.write(ip_addresses)\n",
    "\n",
    "# Build `with` statement to read in the updated file\n",
    "with open(updated_file, \"r\") as file:\n",
    "    # Read in the updated file and store the contents in `text`\n",
    "    text = file.read()\n",
    "\n",
    "# Display the contents of `text`\n",
    "print(text)"
   ]
  },
  {
   "cell_type": "code",
   "execution_count": 18,
   "metadata": {},
   "outputs": [
    {
     "name": "stdout",
     "output_type": "stream",
     "text": [
      "192.168.218.160 192.168.145.158 192.168.108.13 192.168.60.153 192.168.96.200 192.168.247.153 192.168.3.252 192.168.116.187 192.168.15.110 192.168.39.246 192.168.25.60 192.168.205.12 192.168.6.9 192.168.52.90 192.168.90.124 192.168.186.176 192.168.133.188 192.168.203.198 192.168.218.219 192.168.52.37 192.168.156.224 192.168.60.153 192.168.69.116\n"
     ]
    }
   ],
   "source": [
    "# DEFINE A FUNCTION TO USE EXECUTE THE SAME CODE ABOVE\n",
    "\n",
    "def update_file(import_file, remove_list): \n",
    "\n",
    "    # Build `with` statement to read in the initial contents of the file\n",
    "    with open(import_file, \"r\") as file:\n",
    "\n",
    "        # Use `.read()` to read the imported file and store it in a variable named `ip_addresses`\n",
    "        ip_addresses = file.read()\n",
    "\n",
    "    # Use `.split()` to convert `ip_addresses` from a string to a list\n",
    "    ip_addresses = ip_addresses.split()\n",
    "\n",
    "    # Using variable `element' run a loop to remove IP addresses in remove_list \n",
    "    for element in ip_addresses: \n",
    "\n",
    "        # Conditional statement - If current element is in `remove_list`\n",
    "        if element in remove_list: \n",
    "        \n",
    "            # then current element should be removed from `ip_addresses`\n",
    "            ip_addresses.remove(element)\n",
    "\n",
    "    # Convert `ip_addresses` back to a string so that it can be written into the text file \n",
    "    ip_addresses = \" \".join(ip_addresses)       \n",
    "\n",
    "    # Build `with` statement to rewrite the original file\n",
    "    with open(import_file, \"w\") as file:\n",
    "\n",
    "        # Rewrite the file, replacing its contents with `ip_addresses`\n",
    "        file.write(ip_addresses)\n",
    "\n",
    "# Call `update_file()` and pass in \"allow_list.txt\" and a list of IP addresses to be removed\n",
    "\n",
    "update_file(updated_file, remove_list)\n",
    "\n",
    "# Build `with` statement to read in the updated file\n",
    "\n",
    "with open(updated_file, \"r\") as file:\n",
    "\n",
    "  # Read in the updated file and store the contents in `text`\n",
    "\n",
    "  text = file.read()\n",
    "\n",
    "# Display the contents of `text`\n",
    "\n",
    "print(text)\n"
   ]
  },
  {
   "cell_type": "code",
   "execution_count": null,
   "metadata": {},
   "outputs": [],
   "source": []
  }
 ],
 "metadata": {
  "kernelspec": {
   "display_name": "Python 3",
   "language": "python",
   "name": "python3"
  },
  "language_info": {
   "codemirror_mode": {
    "name": "ipython",
    "version": 3
   },
   "file_extension": ".py",
   "mimetype": "text/x-python",
   "name": "python",
   "nbconvert_exporter": "python",
   "pygments_lexer": "ipython3",
   "version": "3.10.1"
  }
 },
 "nbformat": 4,
 "nbformat_minor": 2
}
